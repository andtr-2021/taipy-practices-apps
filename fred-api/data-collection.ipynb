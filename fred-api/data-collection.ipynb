{
 "cells": [
  {
   "cell_type": "code",
   "execution_count": 17,
   "metadata": {},
   "outputs": [
    {
     "name": "stdout",
     "output_type": "stream",
     "text": [
      "                value\n",
      "date                 \n",
      "2000-01-01  10002.179\n",
      "2000-04-01  10247.720\n"
     ]
    }
   ],
   "source": [
    "from taipy.gui import Gui\n",
    "import requests\n",
    "import pandas as pd\n",
    "\n",
    "api_key = '10644614d71d570b8fb28c49378b7005'\n",
    "\n",
    "# Define the FRED API endpoint\n",
    "base_url = 'https://api.stlouisfed.org/fred/'\n",
    "\n",
    "# Assign endpoint\n",
    "obs_endpoint = 'series/observations'\n",
    "\n",
    "# Assign parameters\n",
    "series_id = 'GDP'\n",
    "start_date = '2000-01-01'\n",
    "end_date = '2023-07-01'\n",
    "ts_frequency = 'q'\n",
    "ts_units = 'pc1'\n",
    "\n",
    "obs_params = {\n",
    "    'series_id': series_id,\n",
    "    'api_key': api_key,\n",
    "    'file_type': 'json',\n",
    "    'observation_start': start_date,\n",
    "    'observation_end': end_date,\n",
    "}\n",
    "\n",
    "response = requests.get(base_url + obs_endpoint, params=obs_params)\n",
    "\n",
    "if response.status_code == 200:\n",
    "    res_data = response.json()\n",
    "    obs_data = pd.DataFrame(res_data['observations'])\n",
    "    obs_data['date'] = pd.to_datetime(obs_data['date'])\n",
    "    obs_data.set_index('date', inplace=True)\n",
    "    obs_data['value'] = obs_data['value'].astype(float)\n",
    "else:\n",
    "    print('Failed to retrieve data. Status code:', response.status_code)\n",
    "\n",
    "obs_data.drop(['realtime_start', 'realtime_end'], axis=1, inplace=True)\n",
    "print(obs_data.head(2))\n"
   ]
  },
  {
   "cell_type": "code",
   "execution_count": 18,
   "metadata": {},
   "outputs": [
    {
     "name": "stdout",
     "output_type": "stream",
     "text": [
      "                value\n",
      "date                 \n",
      "2023-04-01  27063.012\n",
      "2023-07-01  27610.128\n"
     ]
    }
   ],
   "source": [
    "print(obs_data.tail(2))"
   ]
  }
 ],
 "metadata": {
  "kernelspec": {
   "display_name": "Python 3",
   "language": "python",
   "name": "python3"
  },
  "language_info": {
   "codemirror_mode": {
    "name": "ipython",
    "version": 3
   },
   "file_extension": ".py",
   "mimetype": "text/x-python",
   "name": "python",
   "nbconvert_exporter": "python",
   "pygments_lexer": "ipython3",
   "version": "3.11.5"
  }
 },
 "nbformat": 4,
 "nbformat_minor": 2
}
